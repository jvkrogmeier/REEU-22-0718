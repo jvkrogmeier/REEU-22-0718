{
 "cells": [
  {
   "cell_type": "markdown",
   "metadata": {},
   "source": [
    "# Lecture 1 -- Part b\n",
    "\n",
    "(Summer 2022)\n",
    "\n",
    "## Outline of topics for this segment:\n",
    "\n",
    "1. Functions\n",
    "2. 60 minutes of homework ...\n",
    "3. Exploring the data mine examples book ..."
   ]
  },
  {
   "cell_type": "markdown",
   "metadata": {},
   "source": [
    "## Some useful background material:\n",
    "\n",
    "The <a href=\"https://the-examples-book.com/book/introduction\" target=\"_blank\">Purdue Data Mine Examples Book</a> contains many useful chapters on data science. While they have not been directly designed for this class, they may be useful. You will not need to use scholar to perform the exercises of this class so don't worry about that part. Here is a direct link to the <a href=\"https://the-examples-book.com/book/python/introduction\" target=\"_blank\">Python chapter.</a>\n"
   ]
  },
  {
   "cell_type": "markdown",
   "metadata": {},
   "source": [
    "## 1. Functions\n",
    "   \n",
    "Function are blocks of code that run when called. \n",
    "\n",
    "- Can pass parameters to a function. \n",
    "- A function can return a value.\n",
    "\n",
    "Functions allow code to be more readable by allowing the hiding of details of an operation that may not be central to the understanding of the overall algorithm. Sometimes, this is called encapsulation. For example, perhaps we want to solve some sort of geometric problem, such as finding the height of a tree from the angle of the sun and the length of the shadow cast on the ground. The height calculation will involve intermediate calculations of trigonometric functions of the angle (e.g., sine, cosine, tangent). These sorts of intermediate calculations are naturally left to functions in python and other programming languages.\n",
    "\n",
    "In addition, functions ...\n",
    "\n",
    "- Assist in divide and conquer problem solving.\n",
    "- Allow to reuse the function code in other parts of a larger program."
   ]
  },
  {
   "cell_type": "markdown",
   "metadata": {},
   "source": [
    "### A Useful Function Example\n",
    "\n",
    "According to wikipedia this algorithm goes back to the Babylonians (100 AD) and is widely used for computing square roots by hand. The idea is this. If we want to find the square root of a positive number, say $Z$, we first start with a guess $x$ hoping $x^2 \\approx Z$. \n",
    "\n",
    "Now if the original guess is **too large,** i.e., $x^2 > Z$ then $x > Z/x$ and so we could move in the correct direction (towards smaller values of $x$) by making a new guess equal to the average of $x$ and $Z/x$, i.e.,\n",
    "\n",
    "New guess = $(x + Z/x)/2$.\n",
    "\n",
    "If, on the other hand, the original quess was **too small,** i.e., $x^2 < Z$ then $x < Z/x$ and using the above formula for the new guess would move in the correct direction of larger values. The algorithm is implemented in python in the function code below.\n",
    "\n",
    "### Hand calculation example ...\n",
    "\n",
    "Say Z = 10 and guess x = 3 for the square root. Then the next guess is the average of 3 and 3.3333..., which is approximately 3.16666... The next step in the algorithm gives an estimate of\n",
    "\n",
    "3.1622"
   ]
  },
  {
   "cell_type": "markdown",
   "metadata": {},
   "source": [
    "### Brute force coding of the hand calculation example"
   ]
  },
  {
   "cell_type": "code",
   "execution_count": 1,
   "metadata": {},
   "outputs": [
    {
     "name": "stdout",
     "output_type": "stream",
     "text": [
      "1\n",
      "0.625\n",
      "0.5125\n",
      "0.5001524390243902\n",
      "0.5000000232305737\n",
      "0.5000000000000006\n",
      "0.5\n",
      "0.5\n"
     ]
    }
   ],
   "source": [
    "Z = .25;\n",
    "x = [1, 1, 1, 1, 1, 1, 1, 1];\n",
    "N = len(x);\n",
    "print(x[0])\n",
    "i = 1;\n",
    "while i < N:\n",
    "    x[i] = (x[i-1] + Z/x[i-1])/2\n",
    "    print(x[i])\n",
    "    i = i+1"
   ]
  },
  {
   "cell_type": "code",
   "execution_count": 2,
   "metadata": {},
   "outputs": [],
   "source": [
    "# Z is the positive number for which we want the square root. epsilon\n",
    "# is the tolerance in the accuracy of the result.\n",
    "\n",
    "def Newtroot(Z,epsilon):\n",
    "    x = 1\n",
    "    xp = (x + Z/x)/2\n",
    "    e = (xp - x)/x\n",
    "    while (e > epsilon) or (-epsilon > e):\n",
    "        x = xp\n",
    "        xp = (x + Z/x)/2\n",
    "        e = (xp - x)/x\n",
    "    return xp"
   ]
  },
  {
   "cell_type": "code",
   "execution_count": 3,
   "metadata": {},
   "outputs": [
    {
     "name": "stdout",
     "output_type": "stream",
     "text": [
      "3.162277660168379\n"
     ]
    }
   ],
   "source": [
    "# Example of the square root algorithm\n",
    "\n",
    "z = 10\n",
    "epsilon = 1e-12\n",
    "\n",
    "print(Newtroot(z,epsilon))"
   ]
  },
  {
   "cell_type": "markdown",
   "metadata": {},
   "source": [
    "## 2. 60 Minutes of HW --- \n",
    "\n",
    "### Sieve of Eratosthenes\n",
    "\n",
    "Sift the Twos and Sift the Threes,\n",
    "The Sieve of Eratosthenes.\n",
    "When the multiples sublime,\n",
    "The numbers that remain are Prime.\n",
    "\n",
    "Here in words is the algorithm. n is an integer greater than 2. The algorithm finds all the primes less than or equal to n. Remember that 1 is not a prime (on a technicality), 2 is a prime and the only even prime, 3 is prime, etc.\n",
    "\n",
    "1. Create a list of consecutive integers from 2 to n: (2, 3, 4, ..., n)\n",
    "2. Let p = 2 to start. p is prime.\n",
    "3. Remove all the multiples 2p, 3p, 4p, etc. from the list\n",
    "4. Find the next largest number in the new list and call it p. This number will be prime.\n",
    "5. Repeat steps 3 and 4 until all the numbers in the list have either been marked as prime or removed.\n",
    "\n",
    "Notice that the algorithm does not need to check for any p's greater than the square root of n (hence you could use the square root function created in problem 1 to limit the search here).\n",
    "\n",
    "There is a Wikipedia page and many youtube links of interest: <a href=\"\n",
    "https://en.wikipedia.org/wiki/Sieve_of_Eratosthenes\" target=\"_blank\">Sieve of Eratosthenes</a>"
   ]
  },
  {
   "cell_type": "markdown",
   "metadata": {},
   "source": [
    "### Solution Framework\n",
    "\n",
    "You need a data structure to hold the sequence of potential prime numbers. Suggest using a list. Here are some python commands that might be useful:\n",
    "\n",
    "`range`, `list`\n",
    "\n",
    "Use the Newtroot function defined above to limit the search for primes less than or equal to a given integer.\n",
    "\n",
    "Use a while loop to step through the list and use the `.remove` method to delete multiples of a prime from the list of potential primes."
   ]
  },
  {
   "cell_type": "markdown",
   "metadata": {},
   "source": [
    "### Here is some code that might be useful in making the desired function ..."
   ]
  },
  {
   "cell_type": "code",
   "execution_count": 4,
   "metadata": {},
   "outputs": [
    {
     "name": "stdout",
     "output_type": "stream",
     "text": [
      "0\n",
      "1\n",
      "2\n",
      "3\n",
      "4\n",
      "5\n",
      "6\n",
      "7\n",
      "8\n",
      "9\n",
      "10\n",
      "11\n",
      "12\n",
      "13\n",
      "14\n"
     ]
    }
   ],
   "source": [
    "# Pick an example integer ...\n",
    "n = 15;\n",
    "\n",
    "# The range function returns a sequence of numbers starting with 0, incrementing by 1, and ending\n",
    "# at a certain integer.\n",
    "\n",
    "y = range(n) # This should represent 0, 1, 2, ... n-1\n",
    "\n",
    "# Check that the range produced what we wanted by printing the numbers out ...\n",
    "\n",
    "for k in y:\n",
    "    print(k)\n"
   ]
  },
  {
   "cell_type": "markdown",
   "metadata": {},
   "source": [
    "Now if we were wanting to use range to create the initial list of prime numbers, we don't really want 0 or 1 in it, since they are not prime. So we can use the non-default version of range ..."
   ]
  },
  {
   "cell_type": "code",
   "execution_count": 5,
   "metadata": {},
   "outputs": [
    {
     "name": "stdout",
     "output_type": "stream",
     "text": [
      "2\n",
      "3\n",
      "4\n",
      "5\n",
      "6\n",
      "7\n",
      "8\n",
      "9\n",
      "10\n",
      "11\n",
      "12\n",
      "13\n",
      "14\n",
      "15\n"
     ]
    }
   ],
   "source": [
    "# This changes the starting point and makes sure that n is actually in the list ...\n",
    "\n",
    "y = range(2,n+1)\n",
    "\n",
    "# Check by printing the numbers out ...\n",
    "\n",
    "for k in y:\n",
    "    print(k)"
   ]
  },
  {
   "cell_type": "markdown",
   "metadata": {},
   "source": [
    "This definitely creates the initial sequence of numbers to check for primes. However, it is not a good data structure for modifying/deleting multiples. This is because `range` is not the same as a sequence of numbers, e.g., it is not an array. Range is unchangeable. The `list` structure will be better for this ..."
   ]
  },
  {
   "cell_type": "code",
   "execution_count": 7,
   "metadata": {},
   "outputs": [
    {
     "name": "stdout",
     "output_type": "stream",
     "text": [
      "<class 'list'>\n",
      "[2, 3, 4, 5, 6, 7, 8, 9, 10, 11, 12, 13, 14, 15]\n"
     ]
    }
   ],
   "source": [
    "# But you can create such a list from a range as below ...\n",
    "\n",
    "y = list(range(2,n+1));\n",
    "\n",
    "print(type(y))\n",
    "\n",
    "print(y)"
   ]
  },
  {
   "cell_type": "code",
   "execution_count": 8,
   "metadata": {},
   "outputs": [
    {
     "name": "stdout",
     "output_type": "stream",
     "text": [
      "[2, 3, 5, 6, 7, 8, 9, 10, 11, 12, 13, 14, 15]\n"
     ]
    }
   ],
   "source": [
    "# List has a handy method to remove items.\n",
    "\n",
    "y.remove(4)\n",
    "\n",
    "print(y)"
   ]
  },
  {
   "cell_type": "markdown",
   "metadata": {},
   "source": [
    "If you try to remove an item twice from a list, you will get an error. Since the sieve of eratosthenes algorithm might actually do this, one should check if the item is there before trying to remove it."
   ]
  },
  {
   "cell_type": "markdown",
   "metadata": {},
   "source": [
    "### Pseudo Code for the Sieve ..."
   ]
  },
  {
   "cell_type": "code",
   "execution_count": null,
   "metadata": {},
   "outputs": [],
   "source": [
    "# This code won't run because it is not complete ...\n",
    "\n",
    "def SieveOfE(n):\n",
    "    primelist = # use list and range to make the initial list\n",
    "    limit = Newtroot(n); # Just using the square root function made before to limit the search length\n",
    "    j = 0\n",
    "    while j <= limit:\n",
    "        p = primelist[j]\n",
    "        # Put some code in here to remove the multiples of p from primelist\n",
    "        # Use primelist.remove\n",
    "        \n",
    "        j = j + 1; # At this stage the next element in primelist will be a prime number\n",
    "        \n",
    "        return primelist"
   ]
  },
  {
   "cell_type": "code",
   "execution_count": null,
   "metadata": {},
   "outputs": [],
   "source": []
  },
  {
   "cell_type": "code",
   "execution_count": null,
   "metadata": {},
   "outputs": [],
   "source": []
  },
  {
   "cell_type": "markdown",
   "metadata": {},
   "source": [
    "## 3. Reading in the Data Mine Examples Book ...\n",
    "\n",
    "Please read the following sections in <a href=\"https://the-examples-book.com/book/introduction\" target=\"_blank\">Purdue Data Mine Examples Book</a> \n",
    "\n",
    "<a href=\"https://the-examples-book.com/book/python/indentation\" target=\"_blank\">Indentation.</a>\n",
    "\n",
    "<a href=\"https://the-examples-book.com/book/python/variables\" target=\"_blank\">Variables.</a>\n",
    "\n",
    "<a href=\"https://the-examples-book.com/book/python/printing-and-f-strings\" target=\"_blank\">Printing.</a>\n",
    "\n",
    "<a href=\"https://the-examples-book.com/book/python/logical-operators\" target=\"_blank\">Logical Operations.</a>\n",
    "\n",
    "<a href=\"https://the-examples-book.com/book/python/tuples\" target=\"_blank\">Tuples.</a>\n",
    "\n",
    "<a href=\"https://the-examples-book.com/book/python/lists\" target=\"_blank\">Lists.</a>\n",
    "   \n",
    "<a href=\"https://the-examples-book.com/book/python/dictionaries\" target=\"_blank\">Dictionaries.</a>\n",
    "\n",
    "<a href=\"https://the-examples-book.com/book/python/sets\" target=\"_blank\">Sets.</a>\n"
   ]
  },
  {
   "cell_type": "code",
   "execution_count": null,
   "metadata": {},
   "outputs": [],
   "source": []
  },
  {
   "cell_type": "code",
   "execution_count": null,
   "metadata": {},
   "outputs": [],
   "source": []
  },
  {
   "cell_type": "code",
   "execution_count": null,
   "metadata": {},
   "outputs": [],
   "source": []
  },
  {
   "cell_type": "code",
   "execution_count": null,
   "metadata": {},
   "outputs": [],
   "source": []
  }
 ],
 "metadata": {
  "kernelspec": {
   "display_name": "Python 3",
   "language": "python",
   "name": "python3"
  },
  "language_info": {
   "codemirror_mode": {
    "name": "ipython",
    "version": 3
   },
   "file_extension": ".py",
   "mimetype": "text/x-python",
   "name": "python",
   "nbconvert_exporter": "python",
   "pygments_lexer": "ipython3",
   "version": "3.8.8"
  }
 },
 "nbformat": 4,
 "nbformat_minor": 2
}
